{
 "cells": [
  {
   "cell_type": "code",
   "execution_count": null,
   "id": "b1c9fc27",
   "metadata": {},
   "outputs": [],
   "source": [
    "# Bir kart destesini karıştırmak için Python programı\n",
    "#  modülleri içe aktarma\n",
    "import itertools, random\n",
    "# kart destesi oluştur \n",
    "kart = list(itertools.product(range(1,14),['Maça', 'Kupa', 'Karo', 'Sinek']))\n",
    "# Kartları karıştır\n",
    "random.shuffle(kart)\n",
    "# Karıştırılmış kartları yazdır\n",
    " \n",
    "print(\"Kartlarınız:\")\n",
    "for i in range(5):\n",
    "   print(kart[i][1],\" \", kart[i][0] )"
   ]
  }
 ],
 "metadata": {
  "kernelspec": {
   "display_name": "Python 3 (ipykernel)",
   "language": "python",
   "name": "python3"
  },
  "language_info": {
   "codemirror_mode": {
    "name": "ipython",
    "version": 3
   },
   "file_extension": ".py",
   "mimetype": "text/x-python",
   "name": "python",
   "nbconvert_exporter": "python",
   "pygments_lexer": "ipython3",
   "version": "3.9.12"
  }
 },
 "nbformat": 4,
 "nbformat_minor": 5
}
